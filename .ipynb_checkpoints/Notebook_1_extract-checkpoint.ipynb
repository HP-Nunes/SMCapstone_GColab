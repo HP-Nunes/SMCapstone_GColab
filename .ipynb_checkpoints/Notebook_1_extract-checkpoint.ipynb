{
 "cells": [
  {
   "cell_type": "markdown",
   "metadata": {
    "colab_type": "text",
    "id": "view-in-github"
   },
   "source": [
    "<a href=\"https://colab.research.google.com/github/HP-Nunes/SMCapstone_GColab/blob/main/Notebook_1_extract.ipynb\" target=\"_parent\"><img src=\"https://colab.research.google.com/assets/colab-badge.svg\" alt=\"Open In Colab\"/></a>"
   ]
  },
  {
   "cell_type": "markdown",
   "metadata": {
    "id": "7euO8R3C5eB8"
   },
   "source": [
    "# **1. Extraction**\n",
    "\n",
    "\n"
   ]
  },
  {
   "cell_type": "markdown",
   "metadata": {
    "id": "16HXMDPm6z8g"
   },
   "source": [
    "## Get the Data"
   ]
  },
  {
   "cell_type": "markdown",
   "metadata": {
    "id": "SldYRw5R7EaS"
   },
   "source": [
    "We are pulling Bay Wheels raw dataset from the [Lyft's System Data](https://www.lyft.com/bikes/bay-wheels/system-data) page (under [Download Bay Wheels trip history data](https://s3.amazonaws.com/baywheels-data/index.html)). The data is contained within zipped csv files for each month of a given year; therefore, I clicked and downloaded all the files within my date range of interest: ie, January 2019 - August 2021.\n",
    "\n",
    "I unzipped the files and saved each csv into a folder corresponding to the year the data was created (thus, I had three folders for 2019, 2020, and 2021).\n"
   ]
  },
  {
   "cell_type": "markdown",
   "metadata": {
    "id": "WXd6-wn26Ia1"
   },
   "source": [
    "## Boilerplate Code"
   ]
  },
  {
   "cell_type": "code",
   "execution_count": null,
   "metadata": {
    "colab": {
     "base_uri": "https://localhost:8080/"
    },
    "id": "qWqePA1K6MTy",
    "outputId": "6700d990-a2c5-4677-81c7-2f9203dc430d"
   },
   "outputs": [
    {
     "name": "stdout",
     "output_type": "stream",
     "text": [
      "Drive already mounted at /content/drive; to attempt to forcibly remount, call drive.mount(\"/content/drive\", force_remount=True).\n",
      "Requirement already satisfied: pandas in /usr/local/lib/python3.7/dist-packages (1.1.5)\n",
      "Requirement already satisfied: numpy>=1.15.4 in /usr/local/lib/python3.7/dist-packages (from pandas) (1.19.5)\n",
      "Requirement already satisfied: pytz>=2017.2 in /usr/local/lib/python3.7/dist-packages (from pandas) (2018.9)\n",
      "Requirement already satisfied: python-dateutil>=2.7.3 in /usr/local/lib/python3.7/dist-packages (from pandas) (2.8.2)\n",
      "Requirement already satisfied: six>=1.5 in /usr/local/lib/python3.7/dist-packages (from python-dateutil>=2.7.3->pandas) (1.15.0)\n",
      "Requirement already satisfied: glob2 in /usr/local/lib/python3.7/dist-packages (0.7)\n"
     ]
    }
   ],
   "source": [
    "# from google.colab import drive\n",
    "# drive.mount('/content/drive')\n",
    "\n",
    "# !pip install -r drive/MyDrive/Gcolab/requirements.txt\n",
    "!pip install pandas\n",
    "!pip install glob2"
   ]
  },
  {
   "cell_type": "markdown",
   "metadata": {
    "id": "RmgprTNc_QbB"
   },
   "source": [
    "### Step 1: Combine the raw data, split by months, into a single csv for each given year."
   ]
  },
  {
   "cell_type": "code",
   "execution_count": null,
   "metadata": {
    "id": "WzXVa4Ls6z0x"
   },
   "outputs": [],
   "source": [
    "#@title\n",
    "def combineRawData(year):\n",
    "  # filepath2csv must be a string, and link to all csv files\n",
    "  # needs to end like this: '/*.csv'\n",
    "    filepath2csv = './rawdata/systemdatalyft/' + str(year) + 'lyftraw/*.csv'\n",
    "  # filepath is like filepath2csv but without '/*.csv'\n",
    "    filepath = './rawdata/systemdatalyft/' + str(year) + 'lyftraw/'\n",
    "  # name_csv is the combined dataframe saved into a single csv within the designated filepath\n",
    "    name_csv = '.csv'\n",
    "\n",
    "    files = glob.glob(filepath2csv)\n",
    "\n",
    "    for i, f in enumerate (files):\n",
    "        if i == 0:\n",
    "            df = pd.read_csv(f)\n",
    "            df['fname'] = f\n",
    "        else:\n",
    "            tmp = pd.read_csv(f)\n",
    "            tmp['fname'] = f\n",
    "            df = df.append(tmp)\n",
    "            \n",
    "    df.to_csv(filepath+name_csv,index=False)"
   ]
  },
  {
   "cell_type": "markdown",
   "metadata": {
    "id": "sFzIVrwMCijN"
   },
   "source": [
    "#### *2019*"
   ]
  },
  {
   "cell_type": "code",
   "execution_count": null,
   "metadata": {
    "id": "etYdkbVCCir8"
   },
   "outputs": [],
   "source": [
    "combineRawData('2019')"
   ]
  },
  {
   "cell_type": "markdown",
   "metadata": {
    "id": "Rfm8hsBLETUS"
   },
   "source": [
    "The output file will be in the folder with all the input files; you can then just remove the latter."
   ]
  },
  {
   "cell_type": "markdown",
   "metadata": {
    "id": "9lMoAwiPEkQD"
   },
   "source": [
    "Repeat for the 2020 and 2021 datasets:"
   ]
  },
  {
   "cell_type": "markdown",
   "metadata": {
    "id": "fCNzdzCyCiRW"
   },
   "source": [
    "#### *2020*"
   ]
  },
  {
   "cell_type": "code",
   "execution_count": null,
   "metadata": {
    "id": "hOqc_IsTCiZv"
   },
   "outputs": [],
   "source": [
    "combineRawData('2020')"
   ]
  },
  {
   "cell_type": "markdown",
   "metadata": {
    "id": "RZSq39ZpCh5k"
   },
   "source": [
    "#### *2021*"
   ]
  },
  {
   "cell_type": "code",
   "execution_count": null,
   "metadata": {
    "id": "J7eb-jPZCiE_"
   },
   "outputs": [],
   "source": [
    "combineRawData('2021')"
   ]
  },
  {
   "cell_type": "markdown",
   "metadata": {
    "id": "XsROpZSFE1sA"
   },
   "source": [
    "You might think *why not just combine all of the yearly dataset into one csv file?* which is not an unreasonable thought. Wrangling data, in my experience, is an iterative process where incongruity in the raw dataset is uncovered through trials and errors. With these particular sets of data, I observed that their schema was not consistent in-between years (2019 was further complicated due to rebranding, so some of the data inputs changed in the meantime).\n",
    "\n"
   ]
  }
 ],
 "metadata": {
  "colab": {
   "authorship_tag": "ABX9TyNgWsxUiPomY/wR8L5vnlbo",
   "collapsed_sections": [],
   "include_colab_link": true,
   "name": "Notebook_1_extract.ipynb",
   "provenance": []
  },
  "kernelspec": {
   "display_name": "Python 3 (ipykernel)",
   "language": "python",
   "name": "python3"
  },
  "language_info": {
   "codemirror_mode": {
    "name": "ipython",
    "version": 3
   },
   "file_extension": ".py",
   "mimetype": "text/x-python",
   "name": "python",
   "nbconvert_exporter": "python",
   "pygments_lexer": "ipython3",
   "version": "3.7.11"
  },
  "toc": {
   "base_numbering": 1,
   "nav_menu": {},
   "number_sections": true,
   "sideBar": true,
   "skip_h1_title": false,
   "title_cell": "Table of Contents",
   "title_sidebar": "Contents",
   "toc_cell": false,
   "toc_position": {},
   "toc_section_display": true,
   "toc_window_display": false
  },
  "varInspector": {
   "cols": {
    "lenName": 16,
    "lenType": 16,
    "lenVar": 40
   },
   "kernels_config": {
    "python": {
     "delete_cmd_postfix": "",
     "delete_cmd_prefix": "del ",
     "library": "var_list.py",
     "varRefreshCmd": "print(var_dic_list())"
    },
    "r": {
     "delete_cmd_postfix": ") ",
     "delete_cmd_prefix": "rm(",
     "library": "var_list.r",
     "varRefreshCmd": "cat(var_dic_list()) "
    }
   },
   "types_to_exclude": [
    "module",
    "function",
    "builtin_function_or_method",
    "instance",
    "_Feature"
   ],
   "window_display": false
  }
 },
 "nbformat": 4,
 "nbformat_minor": 1
}
