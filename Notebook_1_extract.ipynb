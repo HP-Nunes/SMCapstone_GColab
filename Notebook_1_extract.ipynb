{
  "nbformat": 4,
  "nbformat_minor": 0,
  "metadata": {
    "colab": {
      "name": "Notebook_1_extract.ipynb",
      "provenance": [],
      "collapsed_sections": [],
      "authorship_tag": "ABX9TyMrkYbcH7zjmof8M5tuthan",
      "include_colab_link": true
    },
    "kernelspec": {
      "name": "python3",
      "display_name": "Python 3"
    },
    "language_info": {
      "name": "python"
    }
  },
  "cells": [
    {
      "cell_type": "markdown",
      "metadata": {
        "id": "view-in-github",
        "colab_type": "text"
      },
      "source": [
        "<a href=\"https://colab.research.google.com/github/HP-Nunes/SMCapstone_GColab/blob/main/Notebook_1_extract.ipynb\" target=\"_parent\"><img src=\"https://colab.research.google.com/assets/colab-badge.svg\" alt=\"Open In Colab\"/></a>"
      ]
    },
    {
      "cell_type": "markdown",
      "metadata": {
        "id": "7euO8R3C5eB8"
      },
      "source": [
        "# **1. Extraction**\n",
        "\n",
        "\n"
      ]
    },
    {
      "cell_type": "markdown",
      "metadata": {
        "id": "16HXMDPm6z8g"
      },
      "source": [
        "## Get the Data"
      ]
    },
    {
      "cell_type": "markdown",
      "metadata": {
        "id": "SldYRw5R7EaS"
      },
      "source": [
        "We are pulling Bay Wheels raw dataset from the [Lyft's System Data](https://www.lyft.com/bikes/bay-wheels/system-data) page (under [Download Bay Wheels trip history data](https://s3.amazonaws.com/baywheels-data/index.html)). The data is contained within zipped csv files for each month of a given year; therefore, I clicked and downloaded all the files within my date range of interest: ie, January 2019 - August 2021.\n",
        "\n",
        "I unzipped the files and saved each csv into a folder corresponding to the year the data was created (thus, I had three folders for 2019, 2020, and 2021).\n"
      ]
    },
    {
      "cell_type": "markdown",
      "metadata": {
        "id": "WXd6-wn26Ia1"
      },
      "source": [
        "## Boilerplate Code"
      ]
    },
    {
      "cell_type": "code",
      "metadata": {
        "colab": {
          "base_uri": "https://localhost:8080/"
        },
        "id": "qWqePA1K6MTy",
        "outputId": "6700d990-a2c5-4677-81c7-2f9203dc430d"
      },
      "source": [
        "# from google.colab import drive\n",
        "# drive.mount('/content/drive')\n",
        "\n",
        "# !pip install -r drive/MyDrive/Gcolab/requirements.txt\n",
        "!pip install pandas\n",
        "!pip install glob2"
      ],
      "execution_count": 9,
      "outputs": [
        {
          "output_type": "stream",
          "name": "stdout",
          "text": [
            "Drive already mounted at /content/drive; to attempt to forcibly remount, call drive.mount(\"/content/drive\", force_remount=True).\n",
            "Requirement already satisfied: pandas in /usr/local/lib/python3.7/dist-packages (1.1.5)\n",
            "Requirement already satisfied: numpy>=1.15.4 in /usr/local/lib/python3.7/dist-packages (from pandas) (1.19.5)\n",
            "Requirement already satisfied: pytz>=2017.2 in /usr/local/lib/python3.7/dist-packages (from pandas) (2018.9)\n",
            "Requirement already satisfied: python-dateutil>=2.7.3 in /usr/local/lib/python3.7/dist-packages (from pandas) (2.8.2)\n",
            "Requirement already satisfied: six>=1.5 in /usr/local/lib/python3.7/dist-packages (from python-dateutil>=2.7.3->pandas) (1.15.0)\n",
            "Requirement already satisfied: glob2 in /usr/local/lib/python3.7/dist-packages (0.7)\n"
          ]
        }
      ]
    },
    {
      "cell_type": "markdown",
      "metadata": {
        "id": "RmgprTNc_QbB"
      },
      "source": [
        "### Step 1: Combine the raw data, split by months, into a single csv for each given year."
      ]
    },
    {
      "cell_type": "code",
      "metadata": {
        "id": "WzXVa4Ls6z0x"
      },
      "source": [
        "#@title\n",
        "def combineRawData(year):\n",
        "  # filepath2csv must be a string, and link to all csv files\n",
        "  # needs to end like this: '/*.csv'\n",
        "    filepath2csv = './rawdata/systemdatalyft/' + str(year) + 'lyftraw/*.csv'\n",
        "  # filepath is like filepath2csv but without '/*.csv'\n",
        "    filepath = './rawdata/systemdatalyft/' + str(year) + 'lyftraw/'\n",
        "  # name_csv is the combined dataframe saved into a single csv within the designated filepath\n",
        "    name_csv = 'lyft' + str(year) + '_raw.csv'\n",
        "\n",
        "    files = glob.glob(filepath2csv)\n",
        "\n",
        "    for i, f in enumerate (files):\n",
        "        if i == 0:\n",
        "            df = pd.read_csv(f)\n",
        "            df['fname'] = f\n",
        "        else:\n",
        "            tmp = pd.read_csv(f)\n",
        "            tmp['fname'] = f\n",
        "            df = df.append(tmp)\n",
        "            \n",
        "    df.to_csv(filepath+name_csv,index=False)"
      ],
      "execution_count": null,
      "outputs": []
    },
    {
      "cell_type": "markdown",
      "metadata": {
        "id": "sFzIVrwMCijN"
      },
      "source": [
        "#### *2019*"
      ]
    },
    {
      "cell_type": "code",
      "metadata": {
        "cellView": "form",
        "id": "etYdkbVCCir8",
        "colab": {
          "base_uri": "https://localhost:8080/",
          "height": 180
        },
        "outputId": "f39bd0af-218c-47ba-a89d-59342c558f47"
      },
      "source": [
        "#@title\n",
        "combineRawData('2019')"
      ],
      "execution_count": 12,
      "outputs": [
        {
          "output_type": "error",
          "ename": "NameError",
          "evalue": "ignored",
          "traceback": [
            "\u001b[0;31m---------------------------------------------------------------------------\u001b[0m",
            "\u001b[0;31mNameError\u001b[0m                                 Traceback (most recent call last)",
            "\u001b[0;32m<ipython-input-12-5e3ea0600579>\u001b[0m in \u001b[0;36m<module>\u001b[0;34m()\u001b[0m\n\u001b[1;32m      1\u001b[0m \u001b[0;31m#@title\u001b[0m\u001b[0;34m\u001b[0m\u001b[0;34m\u001b[0m\u001b[0;34m\u001b[0m\u001b[0m\n\u001b[0;32m----> 2\u001b[0;31m \u001b[0mcombineRawData\u001b[0m\u001b[0;34m(\u001b[0m\u001b[0;34m'2019'\u001b[0m\u001b[0;34m)\u001b[0m\u001b[0;34m\u001b[0m\u001b[0;34m\u001b[0m\u001b[0m\n\u001b[0m",
            "\u001b[0;31mNameError\u001b[0m: name 'combineRawData' is not defined"
          ]
        }
      ]
    },
    {
      "cell_type": "markdown",
      "metadata": {
        "id": "Rfm8hsBLETUS"
      },
      "source": [
        "The output file will be in the folder with all the input files; you can then just remove the latter."
      ]
    },
    {
      "cell_type": "markdown",
      "metadata": {
        "id": "9lMoAwiPEkQD"
      },
      "source": [
        "Repeat for the 2020 and 2021 datasets:"
      ]
    },
    {
      "cell_type": "markdown",
      "metadata": {
        "id": "fCNzdzCyCiRW"
      },
      "source": [
        "#### *2020*"
      ]
    },
    {
      "cell_type": "code",
      "metadata": {
        "cellView": "form",
        "id": "hOqc_IsTCiZv",
        "colab": {
          "base_uri": "https://localhost:8080/",
          "height": 180
        },
        "outputId": "f1095e69-a262-464f-a320-9f15a039701b"
      },
      "source": [
        "#@title\n",
        "combineRawData('2020')"
      ],
      "execution_count": 11,
      "outputs": [
        {
          "output_type": "error",
          "ename": "NameError",
          "evalue": "ignored",
          "traceback": [
            "\u001b[0;31m---------------------------------------------------------------------------\u001b[0m",
            "\u001b[0;31mNameError\u001b[0m                                 Traceback (most recent call last)",
            "\u001b[0;32m<ipython-input-11-20ff116aca83>\u001b[0m in \u001b[0;36m<module>\u001b[0;34m()\u001b[0m\n\u001b[1;32m      1\u001b[0m \u001b[0;31m#@title\u001b[0m\u001b[0;34m\u001b[0m\u001b[0;34m\u001b[0m\u001b[0;34m\u001b[0m\u001b[0m\n\u001b[0;32m----> 2\u001b[0;31m \u001b[0mcombineRawData\u001b[0m\u001b[0;34m(\u001b[0m\u001b[0;34m'2020'\u001b[0m\u001b[0;34m)\u001b[0m\u001b[0;34m\u001b[0m\u001b[0;34m\u001b[0m\u001b[0m\n\u001b[0m",
            "\u001b[0;31mNameError\u001b[0m: name 'combineRawData' is not defined"
          ]
        }
      ]
    },
    {
      "cell_type": "markdown",
      "metadata": {
        "id": "RZSq39ZpCh5k"
      },
      "source": [
        "#### *2021*"
      ]
    },
    {
      "cell_type": "code",
      "metadata": {
        "cellView": "form",
        "id": "J7eb-jPZCiE_"
      },
      "source": [
        "#@title\n",
        "combineRawData('2021')"
      ],
      "execution_count": null,
      "outputs": []
    },
    {
      "cell_type": "markdown",
      "metadata": {
        "id": "XsROpZSFE1sA"
      },
      "source": [
        "You might think *why not just combine all of the yearly dataset into one csv file?* which is not an unreasonable thought. Wrangling data, in my experience, is an iterative process where incongruity in the raw dataset is uncovered through trials and errors. With these particular sets of data, I observed that their schema was not consistent in-between years (2019 was further complicated due to rebranding, so some of the data inputs changed in the meantime).\n",
        "\n"
      ]
    }
  ]
}